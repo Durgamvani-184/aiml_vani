{
 "cells": [
  {
   "cell_type": "code",
   "execution_count": 1,
   "id": "310e907d-67df-48f3-a9ae-9ceedcf6b516",
   "metadata": {},
   "outputs": [
    {
     "name": "stdout",
     "output_type": "stream",
     "text": [
      "{1, 2, 3, 4, 5}\n",
      "<class 'set'>\n"
     ]
    }
   ],
   "source": [
    "s1={1,2,3,4,5,3,4}\n",
    "print(s1)\n",
    "print(type(s1))"
   ]
  },
  {
   "cell_type": "code",
   "execution_count": 7,
   "id": "1796daa6-1430-434f-b04c-f969954fd054",
   "metadata": {},
   "outputs": [],
   "source": [
    "list= [1,23,4,45,78,23,43,45]\n"
   ]
  },
  {
   "cell_type": "code",
   "execution_count": 9,
   "id": "784dc0eb-a54b-4e04-a265-359c8bc5aab8",
   "metadata": {},
   "outputs": [
    {
     "name": "stdout",
     "output_type": "stream",
     "text": [
      "{1, 4, 43, 45, 78, 23}\n",
      "<class 'set'>\n"
     ]
    }
   ],
   "source": [
    "s2=set(list)\n",
    "print(s2)\n",
    "print(type(s2))\n"
   ]
  },
  {
   "cell_type": "code",
   "execution_count": 11,
   "id": "09c4eafb-19e9-4b73-8a99-3a63a78f8b5a",
   "metadata": {},
   "outputs": [
    {
     "data": {
      "text/plain": [
       "['__and__',\n",
       " '__class__',\n",
       " '__class_getitem__',\n",
       " '__contains__',\n",
       " '__delattr__',\n",
       " '__dir__',\n",
       " '__doc__',\n",
       " '__eq__',\n",
       " '__format__',\n",
       " '__ge__',\n",
       " '__getattribute__',\n",
       " '__getstate__',\n",
       " '__gt__',\n",
       " '__hash__',\n",
       " '__iand__',\n",
       " '__init__',\n",
       " '__init_subclass__',\n",
       " '__ior__',\n",
       " '__isub__',\n",
       " '__iter__',\n",
       " '__ixor__',\n",
       " '__le__',\n",
       " '__len__',\n",
       " '__lt__',\n",
       " '__ne__',\n",
       " '__new__',\n",
       " '__or__',\n",
       " '__rand__',\n",
       " '__reduce__',\n",
       " '__reduce_ex__',\n",
       " '__repr__',\n",
       " '__ror__',\n",
       " '__rsub__',\n",
       " '__rxor__',\n",
       " '__setattr__',\n",
       " '__sizeof__',\n",
       " '__str__',\n",
       " '__sub__',\n",
       " '__subclasshook__',\n",
       " '__xor__',\n",
       " 'add',\n",
       " 'clear',\n",
       " 'copy',\n",
       " 'difference',\n",
       " 'difference_update',\n",
       " 'discard',\n",
       " 'intersection',\n",
       " 'intersection_update',\n",
       " 'isdisjoint',\n",
       " 'issubset',\n",
       " 'issuperset',\n",
       " 'pop',\n",
       " 'remove',\n",
       " 'symmetric_difference',\n",
       " 'symmetric_difference_update',\n",
       " 'union',\n",
       " 'update']"
      ]
     },
     "execution_count": 11,
     "metadata": {},
     "output_type": "execute_result"
    }
   ],
   "source": [
    "dir(set)\n"
   ]
  },
  {
   "cell_type": "code",
   "execution_count": 25,
   "id": "5e8c4972-a33f-4497-80c7-96c4cb5b3c84",
   "metadata": {},
   "outputs": [],
   "source": [
    "s1={1,2,3,4}\n",
    "s2={3,4,5,6}"
   ]
  },
  {
   "cell_type": "code",
   "execution_count": 27,
   "id": "096d4759-e8cb-4de3-883d-b56f9ef6189b",
   "metadata": {},
   "outputs": [
    {
     "data": {
      "text/plain": [
       "{1, 2, 3, 4, 5, 6}"
      ]
     },
     "execution_count": 27,
     "metadata": {},
     "output_type": "execute_result"
    }
   ],
   "source": [
    "s1|s2"
   ]
  },
  {
   "cell_type": "code",
   "execution_count": 29,
   "id": "3f4c8a1b-b513-4104-af61-62ed8ae3c4d8",
   "metadata": {},
   "outputs": [
    {
     "data": {
      "text/plain": [
       "{3, 4}"
      ]
     },
     "execution_count": 29,
     "metadata": {},
     "output_type": "execute_result"
    }
   ],
   "source": [
    "s1&s2"
   ]
  },
  {
   "cell_type": "code",
   "execution_count": 31,
   "id": "7d267248-47fa-4ed8-b68b-613144f7cd7d",
   "metadata": {},
   "outputs": [
    {
     "data": {
      "text/plain": [
       "{1, 2}"
      ]
     },
     "execution_count": 31,
     "metadata": {},
     "output_type": "execute_result"
    }
   ],
   "source": [
    "s1-s2"
   ]
  },
  {
   "cell_type": "code",
   "execution_count": 35,
   "id": "4d5bdc55-f11e-4c89-a53f-c54c206d1666",
   "metadata": {},
   "outputs": [
    {
     "data": {
      "text/plain": [
       "{5, 6}"
      ]
     },
     "execution_count": 35,
     "metadata": {},
     "output_type": "execute_result"
    }
   ],
   "source": [
    "s2-s1\n"
   ]
  },
  {
   "cell_type": "code",
   "execution_count": 37,
   "id": "c42950d2-2387-43ac-92dd-1fd14401a90f",
   "metadata": {},
   "outputs": [
    {
     "data": {
      "text/plain": [
       "{1, 2, 5, 6}"
      ]
     },
     "execution_count": 37,
     "metadata": {},
     "output_type": "execute_result"
    }
   ],
   "source": [
    "s1.symmetric_difference(s2)"
   ]
  },
  {
   "cell_type": "code",
   "execution_count": 41,
   "id": "3993c398-ef30-4d33-ab55-260fe69279a4",
   "metadata": {},
   "outputs": [
    {
     "data": {
      "text/plain": [
       "False"
      ]
     },
     "execution_count": 41,
     "metadata": {},
     "output_type": "execute_result"
    }
   ],
   "source": [
    "s2.issubset(s1)"
   ]
  },
  {
   "cell_type": "code",
   "execution_count": 43,
   "id": "92f2cfd1-487b-4d83-90f4-33e2cf208f98",
   "metadata": {},
   "outputs": [
    {
     "data": {
      "text/plain": [
       "False"
      ]
     },
     "execution_count": 43,
     "metadata": {},
     "output_type": "execute_result"
    }
   ],
   "source": [
    "s2.issuperset(s1)"
   ]
  },
  {
   "cell_type": "code",
   "execution_count": 47,
   "id": "c6689a9f-c434-4725-bdf4-e22900341334",
   "metadata": {},
   "outputs": [
    {
     "name": "stdout",
     "output_type": "stream",
     "text": [
      "vani\n",
      " hi duragm vani garu\n"
     ]
    }
   ],
   "source": [
    "#strings\n",
    "#in these it will be accept single,double,threeble quotes \n",
    "str = \"vani\"\n",
    "print(str)\n",
    "string=' hi duragm vani garu'\n",
    "print(string)\n",
    "\n"
   ]
  },
  {
   "cell_type": "code",
   "execution_count": 49,
   "id": "7932548a-40ea-47ec-b0aa-1ba0a8534c46",
   "metadata": {},
   "outputs": [
    {
     "name": "stdout",
     "output_type": "stream",
     "text": [
      " hi duragm vani garu\n"
     ]
    },
    {
     "data": {
      "text/plain": [
       "' durag'"
      ]
     },
     "execution_count": 49,
     "metadata": {},
     "output_type": "execute_result"
    }
   ],
   "source": [
    "#slicing\n",
    "print(string)\n",
    "string[3:9]"
   ]
  },
  {
   "cell_type": "code",
   "execution_count": 51,
   "id": "133adc78-549f-472b-b1e8-77ffc2780f9e",
   "metadata": {},
   "outputs": [
    {
     "name": "stdout",
     "output_type": "stream",
     "text": [
      " hi duragm vani garu\n"
     ]
    },
    {
     "data": {
      "text/plain": [
       "['hi', 'duragm', 'vani', 'garu']"
      ]
     },
     "execution_count": 51,
     "metadata": {},
     "output_type": "execute_result"
    }
   ],
   "source": [
    "#split\n",
    "print(string)\n",
    "string.split()"
   ]
  },
  {
   "cell_type": "code",
   "execution_count": 53,
   "id": "78b6ac16-5107-44db-bfad-0e300b43bd7b",
   "metadata": {},
   "outputs": [
    {
     "data": {
      "text/plain": [
       "'hi duragm vani garu glad to meet u'"
      ]
     },
     "execution_count": 53,
     "metadata": {},
     "output_type": "execute_result"
    }
   ],
   "source": [
    "#joining\n",
    "str=[\"hi duragm vani garu\",\"glad to meet u\"]\n",
    "joined=' '.join(str)\n",
    "joined"
   ]
  },
  {
   "cell_type": "code",
   "execution_count": 59,
   "id": "2d690be3-d7af-45ff-bcbd-6bcc7a274644",
   "metadata": {},
   "outputs": [
    {
     "data": {
      "text/plain": [
       "'Hi duragm vani garu'"
      ]
     },
     "execution_count": 59,
     "metadata": {},
     "output_type": "execute_result"
    }
   ],
   "source": [
    "#strip\n",
    "string=\"    Hi duragm vani garu       \"\n",
    "string.strip()"
   ]
  },
  {
   "cell_type": "code",
   "execution_count": 57,
   "id": "93839969-0534-48c4-adab-ce99d6f6628c",
   "metadata": {},
   "outputs": [
    {
     "data": {
      "text/plain": [
       "'    HI DURAGM VANI GARU       '"
      ]
     },
     "execution_count": 57,
     "metadata": {},
     "output_type": "execute_result"
    }
   ],
   "source": [
    "string.upper()"
   ]
  },
  {
   "cell_type": "code",
   "execution_count": 61,
   "id": "dd95610b-875b-45b7-9dc6-30e7d7fd687f",
   "metadata": {},
   "outputs": [
    {
     "data": {
      "text/plain": [
       "'    hi duragm vani garu       '"
      ]
     },
     "execution_count": 61,
     "metadata": {},
     "output_type": "execute_result"
    }
   ],
   "source": [
    "string.lower()"
   ]
  },
  {
   "cell_type": "code",
   "execution_count": null,
   "id": "570aa543-11b6-46a6-b7c8-c1f2e2cd6b58",
   "metadata": {},
   "outputs": [],
   "source": []
  }
 ],
 "metadata": {
  "kernelspec": {
   "display_name": "Python [conda env:base] *",
   "language": "python",
   "name": "conda-base-py"
  },
  "language_info": {
   "codemirror_mode": {
    "name": "ipython",
    "version": 3
   },
   "file_extension": ".py",
   "mimetype": "text/x-python",
   "name": "python",
   "nbconvert_exporter": "python",
   "pygments_lexer": "ipython3",
   "version": "3.12.7"
  }
 },
 "nbformat": 4,
 "nbformat_minor": 5
}

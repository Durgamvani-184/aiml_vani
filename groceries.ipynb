{
 "cells": [
  {
   "cell_type": "code",
   "execution_count": 23,
   "id": "7f3038e0-5240-4885-a86c-1565da301f44",
   "metadata": {},
   "outputs": [],
   "source": [
    "import pandas as pd  \n",
    "import numpy as np \n",
    "import matplotlib.pyplot as plt  \n",
    "import seaborn as sns  \n",
    "from datetime import datetime"
   ]
  },
  {
   "cell_type": "code",
   "execution_count": 24,
   "id": "4ed5d1bd-3c31-439b-8e62-9c0dd4b79c42",
   "metadata": {},
   "outputs": [
    {
     "name": "stdout",
     "output_type": "stream",
     "text": [
      "   Member_number        Date   itemDescription\n",
      "0           1808  21-07-2015    tropical fruit\n",
      "1           2552  05-01-2015        whole milk\n",
      "2           2300  19-09-2015         pip fruit\n",
      "3           1187  12-12-2015  other vegetables\n",
      "4           3037  01-02-2015        whole milk\n"
     ]
    }
   ],
   "source": [
    "file_path = \"Groceries_dataset.csv\"\n",
    "df = pd.read_csv(file_path)\n",
    "print(df.head())"
   ]
  },
  {
   "cell_type": "code",
   "execution_count": 25,
   "id": "a31ab75d-1d34-4b39-80da-1c0acde5d551",
   "metadata": {},
   "outputs": [
    {
     "name": "stdout",
     "output_type": "stream",
     "text": [
      "<class 'pandas.core.frame.DataFrame'>\n",
      "RangeIndex: 38765 entries, 0 to 38764\n",
      "Data columns (total 3 columns):\n",
      " #   Column           Non-Null Count  Dtype \n",
      "---  ------           --------------  ----- \n",
      " 0   Member_number    38765 non-null  int64 \n",
      " 1   Date             38765 non-null  object\n",
      " 2   itemDescription  38765 non-null  object\n",
      "dtypes: int64(1), object(2)\n",
      "memory usage: 908.7+ KB\n"
     ]
    }
   ],
   "source": [
    "df.info()"
   ]
  },
  {
   "cell_type": "code",
   "execution_count": 26,
   "id": "0838c46b-41af-404e-890b-a7bb8aabfbf5",
   "metadata": {},
   "outputs": [
    {
     "data": {
      "text/html": [
       "<div>\n",
       "<style scoped>\n",
       "    .dataframe tbody tr th:only-of-type {\n",
       "        vertical-align: middle;\n",
       "    }\n",
       "\n",
       "    .dataframe tbody tr th {\n",
       "        vertical-align: top;\n",
       "    }\n",
       "\n",
       "    .dataframe thead th {\n",
       "        text-align: right;\n",
       "    }\n",
       "</style>\n",
       "<table border=\"1\" class=\"dataframe\">\n",
       "  <thead>\n",
       "    <tr style=\"text-align: right;\">\n",
       "      <th></th>\n",
       "      <th>Member_number</th>\n",
       "      <th>Date</th>\n",
       "      <th>itemDescription</th>\n",
       "    </tr>\n",
       "  </thead>\n",
       "  <tbody>\n",
       "    <tr>\n",
       "      <th>0</th>\n",
       "      <td>1808</td>\n",
       "      <td>21-07-2015</td>\n",
       "      <td>tropical fruit</td>\n",
       "    </tr>\n",
       "    <tr>\n",
       "      <th>1</th>\n",
       "      <td>2552</td>\n",
       "      <td>05-01-2015</td>\n",
       "      <td>whole milk</td>\n",
       "    </tr>\n",
       "    <tr>\n",
       "      <th>2</th>\n",
       "      <td>2300</td>\n",
       "      <td>19-09-2015</td>\n",
       "      <td>pip fruit</td>\n",
       "    </tr>\n",
       "    <tr>\n",
       "      <th>3</th>\n",
       "      <td>1187</td>\n",
       "      <td>12-12-2015</td>\n",
       "      <td>other vegetables</td>\n",
       "    </tr>\n",
       "    <tr>\n",
       "      <th>4</th>\n",
       "      <td>3037</td>\n",
       "      <td>01-02-2015</td>\n",
       "      <td>whole milk</td>\n",
       "    </tr>\n",
       "  </tbody>\n",
       "</table>\n",
       "</div>"
      ],
      "text/plain": [
       "   Member_number        Date   itemDescription\n",
       "0           1808  21-07-2015    tropical fruit\n",
       "1           2552  05-01-2015        whole milk\n",
       "2           2300  19-09-2015         pip fruit\n",
       "3           1187  12-12-2015  other vegetables\n",
       "4           3037  01-02-2015        whole milk"
      ]
     },
     "execution_count": 26,
     "metadata": {},
     "output_type": "execute_result"
    }
   ],
   "source": [
    "df.head()"
   ]
  },
  {
   "cell_type": "code",
   "execution_count": 27,
   "id": "ed0c1c16-5d2e-455d-8541-14021b7fb41a",
   "metadata": {},
   "outputs": [
    {
     "data": {
      "text/html": [
       "<div>\n",
       "<style scoped>\n",
       "    .dataframe tbody tr th:only-of-type {\n",
       "        vertical-align: middle;\n",
       "    }\n",
       "\n",
       "    .dataframe tbody tr th {\n",
       "        vertical-align: top;\n",
       "    }\n",
       "\n",
       "    .dataframe thead th {\n",
       "        text-align: right;\n",
       "    }\n",
       "</style>\n",
       "<table border=\"1\" class=\"dataframe\">\n",
       "  <thead>\n",
       "    <tr style=\"text-align: right;\">\n",
       "      <th></th>\n",
       "      <th>Member_number</th>\n",
       "      <th>Date</th>\n",
       "      <th>itemDescription</th>\n",
       "    </tr>\n",
       "  </thead>\n",
       "  <tbody>\n",
       "    <tr>\n",
       "      <th>38760</th>\n",
       "      <td>4471</td>\n",
       "      <td>08-10-2014</td>\n",
       "      <td>sliced cheese</td>\n",
       "    </tr>\n",
       "    <tr>\n",
       "      <th>38761</th>\n",
       "      <td>2022</td>\n",
       "      <td>23-02-2014</td>\n",
       "      <td>candy</td>\n",
       "    </tr>\n",
       "    <tr>\n",
       "      <th>38762</th>\n",
       "      <td>1097</td>\n",
       "      <td>16-04-2014</td>\n",
       "      <td>cake bar</td>\n",
       "    </tr>\n",
       "    <tr>\n",
       "      <th>38763</th>\n",
       "      <td>1510</td>\n",
       "      <td>03-12-2014</td>\n",
       "      <td>fruit/vegetable juice</td>\n",
       "    </tr>\n",
       "    <tr>\n",
       "      <th>38764</th>\n",
       "      <td>1521</td>\n",
       "      <td>26-12-2014</td>\n",
       "      <td>cat food</td>\n",
       "    </tr>\n",
       "  </tbody>\n",
       "</table>\n",
       "</div>"
      ],
      "text/plain": [
       "       Member_number        Date        itemDescription\n",
       "38760           4471  08-10-2014          sliced cheese\n",
       "38761           2022  23-02-2014                  candy\n",
       "38762           1097  16-04-2014               cake bar\n",
       "38763           1510  03-12-2014  fruit/vegetable juice\n",
       "38764           1521  26-12-2014               cat food"
      ]
     },
     "execution_count": 27,
     "metadata": {},
     "output_type": "execute_result"
    }
   ],
   "source": [
    "df.tail()"
   ]
  },
  {
   "cell_type": "code",
   "execution_count": 28,
   "id": "cf153412-f7a9-4a4d-b71c-feb2fec79bcb",
   "metadata": {},
   "outputs": [
    {
     "name": "stdout",
     "output_type": "stream",
     "text": [
      "<class 'pandas.core.frame.DataFrame'>\n",
      "RangeIndex: 38765 entries, 0 to 38764\n",
      "Data columns (total 3 columns):\n",
      " #   Column           Non-Null Count  Dtype \n",
      "---  ------           --------------  ----- \n",
      " 0   Member_number    38765 non-null  int64 \n",
      " 1   Date             38765 non-null  object\n",
      " 2   itemDescription  38765 non-null  object\n",
      "dtypes: int64(1), object(2)\n",
      "memory usage: 908.7+ KB\n"
     ]
    }
   ],
   "source": [
    "df.info()"
   ]
  },
  {
   "cell_type": "code",
   "execution_count": 29,
   "id": "73ce0290-b951-48d3-874f-af34ad23891a",
   "metadata": {},
   "outputs": [
    {
     "data": {
      "text/html": [
       "<div>\n",
       "<style scoped>\n",
       "    .dataframe tbody tr th:only-of-type {\n",
       "        vertical-align: middle;\n",
       "    }\n",
       "\n",
       "    .dataframe tbody tr th {\n",
       "        vertical-align: top;\n",
       "    }\n",
       "\n",
       "    .dataframe thead th {\n",
       "        text-align: right;\n",
       "    }\n",
       "</style>\n",
       "<table border=\"1\" class=\"dataframe\">\n",
       "  <thead>\n",
       "    <tr style=\"text-align: right;\">\n",
       "      <th></th>\n",
       "      <th>Member_number</th>\n",
       "    </tr>\n",
       "  </thead>\n",
       "  <tbody>\n",
       "    <tr>\n",
       "      <th>count</th>\n",
       "      <td>38765.000000</td>\n",
       "    </tr>\n",
       "    <tr>\n",
       "      <th>mean</th>\n",
       "      <td>3003.641868</td>\n",
       "    </tr>\n",
       "    <tr>\n",
       "      <th>std</th>\n",
       "      <td>1153.611031</td>\n",
       "    </tr>\n",
       "    <tr>\n",
       "      <th>min</th>\n",
       "      <td>1000.000000</td>\n",
       "    </tr>\n",
       "    <tr>\n",
       "      <th>25%</th>\n",
       "      <td>2002.000000</td>\n",
       "    </tr>\n",
       "    <tr>\n",
       "      <th>50%</th>\n",
       "      <td>3005.000000</td>\n",
       "    </tr>\n",
       "    <tr>\n",
       "      <th>75%</th>\n",
       "      <td>4007.000000</td>\n",
       "    </tr>\n",
       "    <tr>\n",
       "      <th>max</th>\n",
       "      <td>5000.000000</td>\n",
       "    </tr>\n",
       "  </tbody>\n",
       "</table>\n",
       "</div>"
      ],
      "text/plain": [
       "       Member_number\n",
       "count   38765.000000\n",
       "mean     3003.641868\n",
       "std      1153.611031\n",
       "min      1000.000000\n",
       "25%      2002.000000\n",
       "50%      3005.000000\n",
       "75%      4007.000000\n",
       "max      5000.000000"
      ]
     },
     "execution_count": 29,
     "metadata": {},
     "output_type": "execute_result"
    }
   ],
   "source": [
    "df.describe()"
   ]
  },
  {
   "cell_type": "code",
   "execution_count": 30,
   "id": "42261e61-3751-43db-b456-30248425f85c",
   "metadata": {},
   "outputs": [
    {
     "name": "stdout",
     "output_type": "stream",
     "text": [
      "Member_number      0\n",
      "Date               0\n",
      "itemDescription    0\n",
      "dtype: int64\n"
     ]
    }
   ],
   "source": [
    "null_values = df.isnull().sum()\n",
    "print(null_values)"
   ]
  },
  {
   "cell_type": "code",
   "execution_count": 44,
   "id": "e11786f9-0e2d-4933-aa96-1676b50b7d11",
   "metadata": {},
   "outputs": [
    {
     "name": "stdout",
     "output_type": "stream",
     "text": [
      "\n",
      "Number of duplicate rows: 759\n"
     ]
    }
   ],
   "source": [
    "duplicate_rows = df.duplicated().sum()\n",
    "print(\"\\nNumber of duplicate rows:\", duplicate_rows)"
   ]
  },
  {
   "cell_type": "code",
   "execution_count": 46,
   "id": "b2a1b4b2-60aa-4f45-9d7d-bde826641014",
   "metadata": {},
   "outputs": [],
   "source": [
    "import pandas as pd\n",
    "from mlxtend.frequent_patterns import apriori, association_rules\n",
    "from mlxtend.preprocessing import TransactionEncoder"
   ]
  },
  {
   "cell_type": "code",
   "execution_count": 49,
   "id": "895f5e6d-bb82-477a-9800-480043b660a3",
   "metadata": {},
   "outputs": [
    {
     "name": "stdout",
     "output_type": "stream",
     "text": [
      "       support                                           itemsets\n",
      "0     0.015393                            (Instant food products)\n",
      "1     0.078502                                         (UHT-milk)\n",
      "2     0.031042                                    (baking powder)\n",
      "3     0.119548                                             (beef)\n",
      "4     0.079785                                          (berries)\n",
      "...        ...                                                ...\n",
      "3011  0.011031     (whipped/sour cream, yogurt, whole milk, soda)\n",
      "3012  0.010518  (whole milk, rolls/buns, other vegetables, bot...\n",
      "3013  0.013597  (whole milk, rolls/buns, sausage, other vegeta...\n",
      "3014  0.010005  (whole milk, shopping bags, rolls/buns, other ...\n",
      "3015  0.013597  (whole milk, soda, rolls/buns, other vegetable...\n",
      "\n",
      "[3016 rows x 2 columns]\n",
      "              antecedents                                        consequents  \\\n",
      "0                  (beef)                                         (UHT-milk)   \n",
      "1              (UHT-milk)                                             (beef)   \n",
      "2          (bottled beer)                                         (UHT-milk)   \n",
      "3              (UHT-milk)                                     (bottled beer)   \n",
      "4              (UHT-milk)                                    (bottled water)   \n",
      "...                   ...                                                ...   \n",
      "15255        (whole milk)       (other vegetables, yogurt, rolls/buns, soda)   \n",
      "15256              (soda)  (other vegetables, whole milk, rolls/buns, yog...   \n",
      "15257        (rolls/buns)       (other vegetables, yogurt, whole milk, soda)   \n",
      "15258  (other vegetables)             (yogurt, whole milk, rolls/buns, soda)   \n",
      "15259            (yogurt)   (other vegetables, whole milk, rolls/buns, soda)   \n",
      "\n",
      "       antecedent support  consequent support   support  confidence      lift  \\\n",
      "0                0.119548            0.078502  0.010518    0.087983  1.120775   \n",
      "1                0.078502            0.119548  0.010518    0.133987  1.120775   \n",
      "2                0.158799            0.078502  0.014879    0.093700  1.193597   \n",
      "3                0.078502            0.158799  0.014879    0.189542  1.193597   \n",
      "4                0.078502            0.213699  0.021293    0.271242  1.269268   \n",
      "...                   ...                 ...       ...         ...       ...   \n",
      "15255            0.458184            0.020010  0.013597    0.029675  1.483002   \n",
      "15256            0.313494            0.034377  0.013597    0.043372  1.261658   \n",
      "15257            0.349666            0.027963  0.013597    0.038885  1.390578   \n",
      "15258            0.376603            0.024628  0.013597    0.036104  1.465954   \n",
      "15259            0.282966            0.031811  0.013597    0.048051  1.510499   \n",
      "\n",
      "       representativity  leverage  conviction  zhangs_metric   jaccard  \\\n",
      "0                   1.0  0.001133    1.010396       0.122392  0.056088   \n",
      "1                   1.0  0.001133    1.016672       0.116940  0.056088   \n",
      "2                   1.0  0.002413    1.016769       0.192815  0.066897   \n",
      "3                   1.0  0.002413    1.037933       0.176014  0.066897   \n",
      "4                   1.0  0.004517    1.078960       0.230217  0.078598   \n",
      "...                 ...       ...         ...            ...       ...   \n",
      "15255               1.0  0.004428    1.009961       0.601111  0.029266   \n",
      "15256               1.0  0.002820    1.009403       0.302098  0.040675   \n",
      "15257               1.0  0.003819    1.011364       0.431893  0.037350   \n",
      "15258               1.0  0.004322    1.011905       0.509869  0.035076   \n",
      "15259               1.0  0.004595    1.017059       0.471340  0.045145   \n",
      "\n",
      "       certainty  kulczynski  \n",
      "0       0.010289    0.110985  \n",
      "1       0.016399    0.110985  \n",
      "2       0.016492    0.141621  \n",
      "3       0.036547    0.141621  \n",
      "4       0.073181    0.185441  \n",
      "...          ...         ...  \n",
      "15255   0.009862    0.354581  \n",
      "15256   0.009315    0.219447  \n",
      "15257   0.011236    0.262562  \n",
      "15258   0.011765    0.294093  \n",
      "15259   0.016773    0.237735  \n",
      "\n",
      "[15260 rows x 14 columns]\n"
     ]
    }
   ],
   "source": [
    "transactions = df.groupby('Member_number')['itemDescription'].apply(list).tolist()\n",
    "te = TransactionEncoder()\n",
    "te_ary = te.fit(transactions).transform(transactions)\n",
    "df_encoded = pd.DataFrame(te_ary, columns=te.columns_)\n",
    "frequent_itemsets = apriori(df_encoded, min_support=0.01, use_colnames=True)\n",
    "rules = association_rules(frequent_itemsets, metric=\"lift\", min_threshold=1)\n",
    "print( frequent_itemsets)\n",
    "print( rules)"
   ]
  },
  {
   "cell_type": "code",
   "execution_count": null,
   "id": "0a4a67ce-91d3-4322-98c4-c279ce64d4a0",
   "metadata": {},
   "outputs": [],
   "source": []
  }
 ],
 "metadata": {
  "kernelspec": {
   "display_name": "Python [conda env:base] *",
   "language": "python",
   "name": "conda-base-py"
  },
  "language_info": {
   "codemirror_mode": {
    "name": "ipython",
    "version": 3
   },
   "file_extension": ".py",
   "mimetype": "text/x-python",
   "name": "python",
   "nbconvert_exporter": "python",
   "pygments_lexer": "ipython3",
   "version": "3.12.7"
  }
 },
 "nbformat": 4,
 "nbformat_minor": 5
}

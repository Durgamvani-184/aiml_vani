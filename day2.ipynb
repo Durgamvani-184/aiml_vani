{
 "cells": [
  {
   "cell_type": "code",
   "execution_count": 5,
   "id": "f451e25d-9bce-4d1c-bf96-e0ec043cd41c",
   "metadata": {},
   "outputs": [
    {
     "name": "stdout",
     "output_type": "stream",
     "text": [
      "odd\n"
     ]
    }
   ],
   "source": [
    "num=3\n",
    "if num %2 == 0:\n",
    "    print(\"even\")\n",
    "else:\n",
    "    print(\"odd\")"
   ]
  },
  {
   "cell_type": "code",
   "execution_count": 7,
   "id": "d2d47f00-edde-428d-aa83-bd3f9398179b",
   "metadata": {},
   "outputs": [
    {
     "name": "stdout",
     "output_type": "stream",
     "text": [
      "odd\n"
     ]
    }
   ],
   "source": [
    "print(\"even\") if num%2==0 else print(\"odd\")"
   ]
  },
  {
   "cell_type": "code",
   "execution_count": 11,
   "id": "be007f9e-11d6-4c38-a004-d5cd0ba3a6a0",
   "metadata": {},
   "outputs": [
    {
     "name": "stdout",
     "output_type": "stream",
     "text": [
      "Negative \n"
     ]
    }
   ],
   "source": [
    "num=-1\n",
    "result = \"Positive\" if num >0 else (\"Negative \" if num <0 else \"Zero\")\n",
    "print(result)                                    "
   ]
  },
  {
   "cell_type": "code",
   "execution_count": 19,
   "id": "f1ce6241-a76e-4c7c-8fe0-88938fb5fa26",
   "metadata": {},
   "outputs": [
    {
     "data": {
      "text/plain": [
       "[3, 6, 8, 24, 92]"
      ]
     },
     "execution_count": 19,
     "metadata": {},
     "output_type": "execute_result"
    }
   ],
   "source": [
    "#list comprehension\n",
    "l = [1,4,6,22,90]\n",
    "[2+x for x in l]"
   ]
  },
  {
   "cell_type": "code",
   "execution_count": 21,
   "id": "83f5eb39-ad99-4497-b6e2-0346b9de466b",
   "metadata": {},
   "outputs": [
    {
     "data": {
      "text/plain": [
       "[4, 6, 22, 90]"
      ]
     },
     "execution_count": 21,
     "metadata": {},
     "output_type": "execute_result"
    }
   ],
   "source": [
    "l = [1,4,6,22,90,3,67,89,7,5]\n",
    "[x for x in l if x%2==0]\n"
   ]
  },
  {
   "cell_type": "code",
   "execution_count": 23,
   "id": "36714daa-3da2-46ae-ac14-b08fa6b2bf57",
   "metadata": {},
   "outputs": [
    {
     "data": {
      "text/plain": [
       "[1, 3, 67, 89, 7, 5]"
      ]
     },
     "execution_count": 23,
     "metadata": {},
     "output_type": "execute_result"
    }
   ],
   "source": [
    "l = [1,4,6,22,90,3,67,89,7,5]\n",
    "[x for x in l if x%2!=0]"
   ]
  },
  {
   "cell_type": "code",
   "execution_count": 27,
   "id": "cd0f91f8-446a-4459-addb-3d277b55a432",
   "metadata": {},
   "outputs": [
    {
     "data": {
      "text/plain": [
       "29.4"
      ]
     },
     "execution_count": 27,
     "metadata": {},
     "output_type": "execute_result"
    }
   ],
   "source": [
    "#average\n",
    "l = [1,4,6,22,90,3,67,89,7,5]\n",
    "sum([x  for x in l ])/len(l)"
   ]
  },
  {
   "cell_type": "code",
   "execution_count": 29,
   "id": "f5e8c8a5-83cb-4d54-a610-f7ff517e8648",
   "metadata": {},
   "outputs": [
    {
     "data": {
      "text/plain": [
       "{'vani': [30, 40, 50], 'kathya': [22, 33, 44]}"
      ]
     },
     "execution_count": 29,
     "metadata": {},
     "output_type": "execute_result"
    }
   ],
   "source": [
    "dict={\"vani\":[30,40,50],\"kathya\":[22,33,44]}\n",
    "dict"
   ]
  },
  {
   "cell_type": "code",
   "execution_count": 35,
   "id": "12f1f1d7-ee45-42be-80f5-c553fd805890",
   "metadata": {},
   "outputs": [
    {
     "data": {
      "text/plain": [
       "{'vani': 40.0, 'kathya': 33.0}"
      ]
     },
     "execution_count": 35,
     "metadata": {},
     "output_type": "execute_result"
    }
   ],
   "source": [
    "{k:sum(v)/len(v) for k,v in dict.items()}"
   ]
  },
  {
   "cell_type": "code",
   "execution_count": null,
   "id": "379d1b15-f92c-42db-b5fc-1df860bc8cb5",
   "metadata": {},
   "outputs": [],
   "source": []
  }
 ],
 "metadata": {
  "kernelspec": {
   "display_name": "Python [conda env:base] *",
   "language": "python",
   "name": "conda-base-py"
  },
  "language_info": {
   "codemirror_mode": {
    "name": "ipython",
    "version": 3
   },
   "file_extension": ".py",
   "mimetype": "text/x-python",
   "name": "python",
   "nbconvert_exporter": "python",
   "pygments_lexer": "ipython3",
   "version": "3.12.7"
  }
 },
 "nbformat": 4,
 "nbformat_minor": 5
}
